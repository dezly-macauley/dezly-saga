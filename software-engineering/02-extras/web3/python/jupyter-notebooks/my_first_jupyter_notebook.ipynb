# This is a Jupyter Notebook 
